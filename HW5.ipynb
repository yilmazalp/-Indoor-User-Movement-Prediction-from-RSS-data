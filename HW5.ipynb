{
  "cells": [
    {
      "metadata": {
        "collapsed": true
      },
      "cell_type": "markdown",
      "source": "# HW5\n\nFor this homework, we are going to work with [*Indoor User Movement Prediction from RSS data*](https://archive.ics.uci.edu/ml/datasets/Indoor+User+Movement+Prediction+from+RSS+data) dataset from UCI.  The homework is due Friday, December 21st midnight. \n\n## Task 1\n\nDownload the dataset and unzip it in under a subdirectory of `data` folder named `rss_data`.\n\nThe files we are interested is in the subfolder `dataset`.  Each of these files whose names that start with `MovementAAL_RSS_` contain data collected from indivuduals. Each of these files represent a single data point.  There are 314 of these files, and hence, you have 314 data points.  Each file has 4 columns but the number of rows change from file to file.  \n\nThere is also a file named `MovementALL_target.csv` in that folder. This file tells us the class each of these measurements are assigned. Some of these measurements are labelled with +1 and some are labelled with -1.\n\n## Task 2\n\nConstruct a SVM model that separates +1 labelled data points from -1 data points.  You must first solve the problem that these datapoints do not have the same number of rows even though they all have the same number of columns. \n\n## Task 3\n\nUsing [Keras](https://keras.io/getting-started/sequential-model-guide/) write a neural network model that separates +1 labelled data points from -1 data points.\n\n## Notes\n\n1. You must document each step of your tasks: what are you doing, why are you doing it, what problems you encountered and how you solved it.  All of these must be explained and documented.  Solutions without sufficient documentations will be penalized accordingly. 50% of your points will come from your code, while the other 50% will come from your explanations.\n\n1. You can use MS Excel to inspect the files, but loading them up to python using pandas and inspecting them there under jupyter is easier.\n\n3. Put the data in a separate subfolder of your `data` folder and rename it `rss_data`. I'll take points off if the data is not saved under the correct place.\n\n1. For both of Task 2 and Task 3, you must split your data into a train and test set, and then evaluate the accuracy of your model on the test set.\n"
    },
    {
      "metadata": {},
      "cell_type": "markdown",
      "source": "## Task2 : Construct SVM"
    },
    {
      "metadata": {
        "trusted": true
      },
      "cell_type": "code",
      "source": "import os\nimport pandas as pd",
      "execution_count": 1,
      "outputs": []
    },
    {
      "metadata": {
        "trusted": true
      },
      "cell_type": "code",
      "source": "path = os.getcwd()\n#path = \"home/nbuser/library\"\nfiles = os.listdir(path + '/dataset/')\nfiles = sorted(files)",
      "execution_count": 2,
      "outputs": []
    },
    {
      "metadata": {
        "trusted": true
      },
      "cell_type": "code",
      "source": "target_file = pd.read_csv(path + '/dataset/MovementAAL_target.csv', names=('ID', 'class_label'), skiprows=(1))",
      "execution_count": 3,
      "outputs": []
    },
    {
      "metadata": {
        "trusted": true
      },
      "cell_type": "code",
      "source": "target_file",
      "execution_count": 4,
      "outputs": [
        {
          "output_type": "execute_result",
          "execution_count": 4,
          "data": {
            "text/html": "<div>\n<style scoped>\n    .dataframe tbody tr th:only-of-type {\n        vertical-align: middle;\n    }\n\n    .dataframe tbody tr th {\n        vertical-align: top;\n    }\n\n    .dataframe thead th {\n        text-align: right;\n    }\n</style>\n<table border=\"1\" class=\"dataframe\">\n  <thead>\n    <tr style=\"text-align: right;\">\n      <th></th>\n      <th>ID</th>\n      <th>class_label</th>\n    </tr>\n  </thead>\n  <tbody>\n    <tr>\n      <th>0</th>\n      <td>1</td>\n      <td>1</td>\n    </tr>\n    <tr>\n      <th>1</th>\n      <td>2</td>\n      <td>1</td>\n    </tr>\n    <tr>\n      <th>2</th>\n      <td>3</td>\n      <td>1</td>\n    </tr>\n    <tr>\n      <th>3</th>\n      <td>4</td>\n      <td>1</td>\n    </tr>\n    <tr>\n      <th>4</th>\n      <td>5</td>\n      <td>1</td>\n    </tr>\n    <tr>\n      <th>5</th>\n      <td>6</td>\n      <td>1</td>\n    </tr>\n    <tr>\n      <th>6</th>\n      <td>7</td>\n      <td>1</td>\n    </tr>\n    <tr>\n      <th>7</th>\n      <td>8</td>\n      <td>1</td>\n    </tr>\n    <tr>\n      <th>8</th>\n      <td>9</td>\n      <td>1</td>\n    </tr>\n    <tr>\n      <th>9</th>\n      <td>10</td>\n      <td>1</td>\n    </tr>\n    <tr>\n      <th>10</th>\n      <td>11</td>\n      <td>1</td>\n    </tr>\n    <tr>\n      <th>11</th>\n      <td>12</td>\n      <td>1</td>\n    </tr>\n    <tr>\n      <th>12</th>\n      <td>13</td>\n      <td>1</td>\n    </tr>\n    <tr>\n      <th>13</th>\n      <td>14</td>\n      <td>1</td>\n    </tr>\n    <tr>\n      <th>14</th>\n      <td>15</td>\n      <td>1</td>\n    </tr>\n    <tr>\n      <th>15</th>\n      <td>16</td>\n      <td>1</td>\n    </tr>\n    <tr>\n      <th>16</th>\n      <td>17</td>\n      <td>1</td>\n    </tr>\n    <tr>\n      <th>17</th>\n      <td>18</td>\n      <td>1</td>\n    </tr>\n    <tr>\n      <th>18</th>\n      <td>19</td>\n      <td>1</td>\n    </tr>\n    <tr>\n      <th>19</th>\n      <td>20</td>\n      <td>1</td>\n    </tr>\n    <tr>\n      <th>20</th>\n      <td>21</td>\n      <td>1</td>\n    </tr>\n    <tr>\n      <th>21</th>\n      <td>22</td>\n      <td>1</td>\n    </tr>\n    <tr>\n      <th>22</th>\n      <td>23</td>\n      <td>1</td>\n    </tr>\n    <tr>\n      <th>23</th>\n      <td>24</td>\n      <td>1</td>\n    </tr>\n    <tr>\n      <th>24</th>\n      <td>25</td>\n      <td>1</td>\n    </tr>\n    <tr>\n      <th>25</th>\n      <td>26</td>\n      <td>1</td>\n    </tr>\n    <tr>\n      <th>26</th>\n      <td>27</td>\n      <td>-1</td>\n    </tr>\n    <tr>\n      <th>27</th>\n      <td>28</td>\n      <td>-1</td>\n    </tr>\n    <tr>\n      <th>28</th>\n      <td>29</td>\n      <td>-1</td>\n    </tr>\n    <tr>\n      <th>29</th>\n      <td>30</td>\n      <td>-1</td>\n    </tr>\n    <tr>\n      <th>...</th>\n      <td>...</td>\n      <td>...</td>\n    </tr>\n    <tr>\n      <th>284</th>\n      <td>285</td>\n      <td>1</td>\n    </tr>\n    <tr>\n      <th>285</th>\n      <td>286</td>\n      <td>1</td>\n    </tr>\n    <tr>\n      <th>286</th>\n      <td>287</td>\n      <td>1</td>\n    </tr>\n    <tr>\n      <th>287</th>\n      <td>288</td>\n      <td>1</td>\n    </tr>\n    <tr>\n      <th>288</th>\n      <td>289</td>\n      <td>1</td>\n    </tr>\n    <tr>\n      <th>289</th>\n      <td>290</td>\n      <td>1</td>\n    </tr>\n    <tr>\n      <th>290</th>\n      <td>291</td>\n      <td>1</td>\n    </tr>\n    <tr>\n      <th>291</th>\n      <td>292</td>\n      <td>1</td>\n    </tr>\n    <tr>\n      <th>292</th>\n      <td>293</td>\n      <td>1</td>\n    </tr>\n    <tr>\n      <th>293</th>\n      <td>294</td>\n      <td>1</td>\n    </tr>\n    <tr>\n      <th>294</th>\n      <td>295</td>\n      <td>1</td>\n    </tr>\n    <tr>\n      <th>295</th>\n      <td>296</td>\n      <td>1</td>\n    </tr>\n    <tr>\n      <th>296</th>\n      <td>297</td>\n      <td>1</td>\n    </tr>\n    <tr>\n      <th>297</th>\n      <td>298</td>\n      <td>1</td>\n    </tr>\n    <tr>\n      <th>298</th>\n      <td>299</td>\n      <td>1</td>\n    </tr>\n    <tr>\n      <th>299</th>\n      <td>300</td>\n      <td>1</td>\n    </tr>\n    <tr>\n      <th>300</th>\n      <td>301</td>\n      <td>1</td>\n    </tr>\n    <tr>\n      <th>301</th>\n      <td>302</td>\n      <td>-1</td>\n    </tr>\n    <tr>\n      <th>302</th>\n      <td>303</td>\n      <td>-1</td>\n    </tr>\n    <tr>\n      <th>303</th>\n      <td>304</td>\n      <td>-1</td>\n    </tr>\n    <tr>\n      <th>304</th>\n      <td>305</td>\n      <td>-1</td>\n    </tr>\n    <tr>\n      <th>305</th>\n      <td>306</td>\n      <td>-1</td>\n    </tr>\n    <tr>\n      <th>306</th>\n      <td>307</td>\n      <td>-1</td>\n    </tr>\n    <tr>\n      <th>307</th>\n      <td>308</td>\n      <td>-1</td>\n    </tr>\n    <tr>\n      <th>308</th>\n      <td>309</td>\n      <td>-1</td>\n    </tr>\n    <tr>\n      <th>309</th>\n      <td>310</td>\n      <td>-1</td>\n    </tr>\n    <tr>\n      <th>310</th>\n      <td>311</td>\n      <td>-1</td>\n    </tr>\n    <tr>\n      <th>311</th>\n      <td>312</td>\n      <td>-1</td>\n    </tr>\n    <tr>\n      <th>312</th>\n      <td>313</td>\n      <td>-1</td>\n    </tr>\n    <tr>\n      <th>313</th>\n      <td>314</td>\n      <td>-1</td>\n    </tr>\n  </tbody>\n</table>\n<p>314 rows × 2 columns</p>\n</div>",
            "text/plain": "      ID  class_label\n0      1            1\n1      2            1\n2      3            1\n3      4            1\n4      5            1\n5      6            1\n6      7            1\n7      8            1\n8      9            1\n9     10            1\n10    11            1\n11    12            1\n12    13            1\n13    14            1\n14    15            1\n15    16            1\n16    17            1\n17    18            1\n18    19            1\n19    20            1\n20    21            1\n21    22            1\n22    23            1\n23    24            1\n24    25            1\n25    26            1\n26    27           -1\n27    28           -1\n28    29           -1\n29    30           -1\n..   ...          ...\n284  285            1\n285  286            1\n286  287            1\n287  288            1\n288  289            1\n289  290            1\n290  291            1\n291  292            1\n292  293            1\n293  294            1\n294  295            1\n295  296            1\n296  297            1\n297  298            1\n298  299            1\n299  300            1\n300  301            1\n301  302           -1\n302  303           -1\n303  304           -1\n304  305           -1\n305  306           -1\n306  307           -1\n307  308           -1\n308  309           -1\n309  310           -1\n310  311           -1\n311  312           -1\n312  313           -1\n313  314           -1\n\n[314 rows x 2 columns]"
          },
          "metadata": {}
        }
      ]
    },
    {
      "metadata": {},
      "cell_type": "markdown",
      "source": "Target data was created as data frame and assign to `target_data`."
    },
    {
      "metadata": {
        "trusted": true
      },
      "cell_type": "code",
      "source": "target_data = target_file.iloc[:,-1]",
      "execution_count": 5,
      "outputs": []
    },
    {
      "metadata": {},
      "cell_type": "markdown",
      "source": "Empty dataset was created as `rss_data_frame` which has `target` column."
    },
    {
      "metadata": {
        "trusted": true
      },
      "cell_type": "code",
      "source": "columns = [\"target\"]\nrss_data_frame = pd.DataFrame(columns=columns)\nrss_data_frame",
      "execution_count": 6,
      "outputs": [
        {
          "output_type": "execute_result",
          "execution_count": 6,
          "data": {
            "text/html": "<div>\n<style scoped>\n    .dataframe tbody tr th:only-of-type {\n        vertical-align: middle;\n    }\n\n    .dataframe tbody tr th {\n        vertical-align: top;\n    }\n\n    .dataframe thead th {\n        text-align: right;\n    }\n</style>\n<table border=\"1\" class=\"dataframe\">\n  <thead>\n    <tr style=\"text-align: right;\">\n      <th></th>\n      <th>target</th>\n    </tr>\n  </thead>\n  <tbody>\n  </tbody>\n</table>\n</div>",
            "text/plain": "Empty DataFrame\nColumns: [target]\nIndex: []"
          },
          "metadata": {}
        }
      ]
    },
    {
      "metadata": {},
      "cell_type": "markdown",
      "source": "We will construct a SVM model with dataset which has RSS anchor values but we have multiple sensor values and one file for each invidiual user. So, we need reduce dimensionality of data to get suitable results from the model. Therefore, it can be used PCA to reduce dimensionality of the dataset. "
    },
    {
      "metadata": {
        "trusted": true
      },
      "cell_type": "markdown",
      "source": "### Principal Component Analysis\n\nPrincipal Component Analysis is a method which is used to reduce dimensionality of data computing eigenvalues and eigenvectors of matrix data. In this problem, we will try to use PCA in an attempt to work on only one vector of dataset for each individual user. So, then we will merge row data of each user file. "
    },
    {
      "metadata": {},
      "cell_type": "markdown",
      "source": "Firstly, let's take an example data through `get_dataframe`. "
    },
    {
      "metadata": {
        "trusted": true
      },
      "cell_type": "code",
      "source": "def get_dataframe(seq_id):\n    return pd.read_csv( path + '/dataset/MovementAAL_RSS_%s.csv' % seq_id, \n                           names=('RSS_anchor1', 'RSS_anchor2','RSS_anchor3', 'RSS_anchor4'), \n                           skiprows=(1))",
      "execution_count": 7,
      "outputs": []
    },
    {
      "metadata": {
        "trusted": true
      },
      "cell_type": "code",
      "source": "example_data = get_dataframe(3)",
      "execution_count": 8,
      "outputs": []
    },
    {
      "metadata": {},
      "cell_type": "markdown",
      "source": "We want to one row and four columns as `RSS_anchor1`, `RSS_anchor2`, `RSS_anchor3`, `RSS_anchor4` at the end of PCA process. So, we need transpose with example_data in order to multiplies between matrices are compatible when computing eigenvectors and eigenvalues. "
    },
    {
      "metadata": {
        "trusted": true
      },
      "cell_type": "code",
      "source": "example_data = example_data.T",
      "execution_count": 16,
      "outputs": []
    },
    {
      "metadata": {},
      "cell_type": "markdown",
      "source": "`sigma` is covariant matrix of df_example matrix. In the formula X is df_example matrix, n is number of rows. "
    },
    {
      "metadata": {},
      "cell_type": "markdown",
      "source": "\\begin{align}\n    S = (1/n) * XX^T\n\\end{align}\n"
    },
    {
      "metadata": {
        "trusted": true
      },
      "cell_type": "code",
      "source": "import numpy as np\ndf_example = np.asmatrix(example_data)\nsigma = np.cov(df_example.T)",
      "execution_count": 9,
      "outputs": []
    },
    {
      "metadata": {},
      "cell_type": "markdown",
      "source": "It is computed eigenvalues and eigenvector with covariance matrix sigma. Eigen values explain variance in data set. Eigenvectors are vectors which tell corresponding direction of variance. "
    },
    {
      "metadata": {
        "trusted": true
      },
      "cell_type": "code",
      "source": "eigVals, eigVec = np.linalg.eig(sigma)",
      "execution_count": 10,
      "outputs": []
    },
    {
      "metadata": {},
      "cell_type": "markdown",
      "source": "We interest eigenvalues with maximum variance and eigenvectors which correspond to these eigenvalues. So, we sorted eigenvalues and eigenvector in decreasing order."
    },
    {
      "metadata": {
        "trusted": true
      },
      "cell_type": "code",
      "source": "sorted_index = eigVals.argsort()[::-1] \neigVals = eigVals[sorted_index]\neigVec = eigVec[:,sorted_index]",
      "execution_count": 11,
      "outputs": []
    },
    {
      "metadata": {},
      "cell_type": "markdown",
      "source": "We get eigenvector correspond to eigenvalue with maximum variance."
    },
    {
      "metadata": {
        "trusted": true
      },
      "cell_type": "code",
      "source": "eigVec = eigVec[:,:1]\neigVec",
      "execution_count": 12,
      "outputs": [
        {
          "output_type": "execute_result",
          "execution_count": 12,
          "data": {
            "text/plain": "array([[-0.52132164],\n       [-0.33177132],\n       [ 0.77720948],\n       [ 0.11873062]])"
          },
          "metadata": {}
        }
      ]
    },
    {
      "metadata": {},
      "cell_type": "markdown",
      "source": "df_example was transformed to new dataset as `transformed` with `eigVec`. "
    },
    {
      "metadata": {
        "trusted": true
      },
      "cell_type": "code",
      "source": "transformed = df_example.dot(eigVec)",
      "execution_count": 13,
      "outputs": []
    },
    {
      "metadata": {
        "trusted": true
      },
      "cell_type": "code",
      "source": "transformed",
      "execution_count": 14,
      "outputs": [
        {
          "output_type": "execute_result",
          "execution_count": 14,
          "data": {
            "text/plain": "matrix([[1.08242991],\n        [0.795631  ],\n        [1.32740408],\n        [1.15388771],\n        [1.17067167],\n        [1.17938975],\n        [1.18953369],\n        [1.25028276],\n        [1.18950713],\n        [1.45046582],\n        [1.42811748],\n        [1.39036666],\n        [1.09401566],\n        [0.94317096],\n        [0.52777706],\n        [0.5643332 ],\n        [0.66862736],\n        [0.53450051],\n        [0.37427927],\n        [0.55665351],\n        [0.21436412],\n        [0.08226125],\n        [0.25360558]])"
          },
          "metadata": {}
        }
      ]
    },
    {
      "metadata": {},
      "cell_type": "markdown",
      "source": "At the end, it was created new dataset as needed to construct suitable SVM model for just one example of user sensor data. "
    },
    {
      "metadata": {
        "trusted": true
      },
      "cell_type": "code",
      "source": "#horizontally stack transformed data set.\nfinal_df = np.hstack((transformed))\n\n#convert the numpy array to data frame\nfinal_df = pd.DataFrame(final_df)\n\n#define the column names\n#final_df.columns = ['x','y','label']\n\nfinal_df",
      "execution_count": 15,
      "outputs": [
        {
          "output_type": "execute_result",
          "execution_count": 15,
          "data": {
            "text/html": "<div>\n<style scoped>\n    .dataframe tbody tr th:only-of-type {\n        vertical-align: middle;\n    }\n\n    .dataframe tbody tr th {\n        vertical-align: top;\n    }\n\n    .dataframe thead th {\n        text-align: right;\n    }\n</style>\n<table border=\"1\" class=\"dataframe\">\n  <thead>\n    <tr style=\"text-align: right;\">\n      <th></th>\n      <th>0</th>\n      <th>1</th>\n      <th>2</th>\n      <th>3</th>\n      <th>4</th>\n      <th>5</th>\n      <th>6</th>\n      <th>7</th>\n      <th>8</th>\n      <th>9</th>\n      <th>...</th>\n      <th>13</th>\n      <th>14</th>\n      <th>15</th>\n      <th>16</th>\n      <th>17</th>\n      <th>18</th>\n      <th>19</th>\n      <th>20</th>\n      <th>21</th>\n      <th>22</th>\n    </tr>\n  </thead>\n  <tbody>\n    <tr>\n      <th>0</th>\n      <td>1.08243</td>\n      <td>0.795631</td>\n      <td>1.327404</td>\n      <td>1.153888</td>\n      <td>1.170672</td>\n      <td>1.17939</td>\n      <td>1.189534</td>\n      <td>1.250283</td>\n      <td>1.189507</td>\n      <td>1.450466</td>\n      <td>...</td>\n      <td>0.943171</td>\n      <td>0.527777</td>\n      <td>0.564333</td>\n      <td>0.668627</td>\n      <td>0.534501</td>\n      <td>0.374279</td>\n      <td>0.556654</td>\n      <td>0.214364</td>\n      <td>0.082261</td>\n      <td>0.253606</td>\n    </tr>\n  </tbody>\n</table>\n<p>1 rows × 23 columns</p>\n</div>",
            "text/plain": "        0         1         2         3         4        5         6   \\\n0  1.08243  0.795631  1.327404  1.153888  1.170672  1.17939  1.189534   \n\n         7         8         9     ...           13        14        15  \\\n0  1.250283  1.189507  1.450466    ...     0.943171  0.527777  0.564333   \n\n         16        17        18        19        20        21        22  \n0  0.668627  0.534501  0.374279  0.556654  0.214364  0.082261  0.253606  \n\n[1 rows x 23 columns]"
          },
          "metadata": {}
        }
      ]
    },
    {
      "metadata": {},
      "cell_type": "markdown",
      "source": "### Reference\n\nhttps://code.likeagirl.io/principal-component-analysis-dimensionality-reduction-technique-step-by-step-approach-ffd46623ff67"
    },
    {
      "metadata": {
        "trusted": true
      },
      "cell_type": "markdown",
      "source": "Now, let's write a function which has PCA algorithm. `."
    },
    {
      "metadata": {
        "trusted": true
      },
      "cell_type": "code",
      "source": "def apply_PCA(rss_data):\n    rss_data = rss_data.T\n    df_rss = np.asmatrix(rss_data)\n    sigma = np.cov(df_rss.T)\n    \n    eigVals, eigVec = np.linalg.eig(sigma)\n    sorted_index = eigVals.argsort()[::-1] \n    \n    eigVals = eigVals[sorted_index]\n    eigVec = eigVec[:,sorted_index]\n    eigVec = eigVec[:,:1]\n    \n    transformed_rss = df_rss.dot(eigVec)\n    \n    final_rss_df = np.hstack((transformed_rss))\n    final_rss_df = pd.DataFrame(final_rss_df)\n    \n    return final_rss_df",
      "execution_count": 16,
      "outputs": []
    },
    {
      "metadata": {},
      "cell_type": "markdown",
      "source": "For instance, sensor values for 4. user:"
    },
    {
      "metadata": {
        "trusted": true
      },
      "cell_type": "code",
      "source": "apply_PCA(get_dataframe(4))",
      "execution_count": 19,
      "outputs": [
        {
          "output_type": "execute_result",
          "execution_count": 19,
          "data": {
            "text/html": "<div>\n<style scoped>\n    .dataframe tbody tr th:only-of-type {\n        vertical-align: middle;\n    }\n\n    .dataframe tbody tr th {\n        vertical-align: top;\n    }\n\n    .dataframe thead th {\n        text-align: right;\n    }\n</style>\n<table border=\"1\" class=\"dataframe\">\n  <thead>\n    <tr style=\"text-align: right;\">\n      <th></th>\n      <th>0</th>\n      <th>1</th>\n      <th>2</th>\n      <th>3</th>\n    </tr>\n  </thead>\n  <tbody>\n    <tr>\n      <th>0</th>\n      <td>(-3.513514124744332+0j)</td>\n      <td>(-2.1221756814564996+0j)</td>\n      <td>(2.867852254375728+0j)</td>\n      <td>(2.2226989599835827+0j)</td>\n    </tr>\n  </tbody>\n</table>\n</div>",
            "text/plain": "                         0                         1                       2  \\\n0  (-3.513514124744332+0j)  (-2.1221756814564996+0j)  (2.867852254375728+0j)   \n\n                         3  \n0  (2.2226989599835827+0j)  "
          },
          "metadata": {}
        }
      ]
    },
    {
      "metadata": {},
      "cell_type": "markdown",
      "source": "Finally, we create a dataframe which has all combined sensor data for all users. In this function, `target` data was added to data frame. All sensor data was combined with `pd.concat`.  "
    },
    {
      "metadata": {
        "trusted": true
      },
      "cell_type": "code",
      "source": "for sequential_id in range(1, 315):\n    rss_data_point = apply_PCA(get_dataframe(sequential_id))\n    rss_data_point[\"target\"] = target_data[sequential_id-1]\n    rss_data_frame = pd.concat([rss_data_frame, rss_data_point], axis=0, ignore_index=True)",
      "execution_count": 17,
      "outputs": []
    },
    {
      "metadata": {
        "trusted": true
      },
      "cell_type": "code",
      "source": "rss_data_frame.head()",
      "execution_count": 18,
      "outputs": [
        {
          "output_type": "execute_result",
          "execution_count": 18,
          "data": {
            "text/html": "<div>\n<style scoped>\n    .dataframe tbody tr th:only-of-type {\n        vertical-align: middle;\n    }\n\n    .dataframe tbody tr th {\n        vertical-align: top;\n    }\n\n    .dataframe thead th {\n        text-align: right;\n    }\n</style>\n<table border=\"1\" class=\"dataframe\">\n  <thead>\n    <tr style=\"text-align: right;\">\n      <th></th>\n      <th>target</th>\n      <th>0</th>\n      <th>1</th>\n      <th>2</th>\n      <th>3</th>\n    </tr>\n  </thead>\n  <tbody>\n    <tr>\n      <th>0</th>\n      <td>1</td>\n      <td>(-1.2267807166123779+0j)</td>\n      <td>(-0.574394593231218+0j)</td>\n      <td>(-0.10960860000729511+0j)</td>\n      <td>(1.3553274031314444+0j)</td>\n    </tr>\n    <tr>\n      <th>1</th>\n      <td>1</td>\n      <td>(2.9259774034536226+0j)</td>\n      <td>(2.404910259366234+0j)</td>\n      <td>(-2.1751787605141732+0j)</td>\n      <td>(-2.3149351660195143+0j)</td>\n    </tr>\n    <tr>\n      <th>2</th>\n      <td>1</td>\n      <td>(3.337187445713733+0j)</td>\n      <td>(1.686085042450151+0j)</td>\n      <td>(-2.7029061158562153+0j)</td>\n      <td>(-2.2372550680009926+0j)</td>\n    </tr>\n    <tr>\n      <th>3</th>\n      <td>1</td>\n      <td>(-3.513514124744332+0j)</td>\n      <td>(-2.1221756814564996+0j)</td>\n      <td>(2.867852254375728+0j)</td>\n      <td>(2.2226989599835827+0j)</td>\n    </tr>\n    <tr>\n      <th>4</th>\n      <td>1</td>\n      <td>(-4.081392660991256+0j)</td>\n      <td>(-2.5329789459185936+0j)</td>\n      <td>(3.2084736446164808+0j)</td>\n      <td>(2.6017834094344408+0j)</td>\n    </tr>\n  </tbody>\n</table>\n</div>",
            "text/plain": "  target                         0                         1  \\\n0      1  (-1.2267807166123779+0j)   (-0.574394593231218+0j)   \n1      1   (2.9259774034536226+0j)    (2.404910259366234+0j)   \n2      1    (3.337187445713733+0j)    (1.686085042450151+0j)   \n3      1   (-3.513514124744332+0j)  (-2.1221756814564996+0j)   \n4      1   (-4.081392660991256+0j)  (-2.5329789459185936+0j)   \n\n                           2                         3  \n0  (-0.10960860000729511+0j)   (1.3553274031314444+0j)  \n1   (-2.1751787605141732+0j)  (-2.3149351660195143+0j)  \n2   (-2.7029061158562153+0j)  (-2.2372550680009926+0j)  \n3     (2.867852254375728+0j)   (2.2226989599835827+0j)  \n4    (3.2084736446164808+0j)   (2.6017834094344408+0j)  "
          },
          "metadata": {}
        }
      ]
    },
    {
      "metadata": {
        "trusted": true
      },
      "cell_type": "code",
      "source": "rss_data_frame = rss_data_frame.rename(columns={0: 'RSS_anchor1', 1: 'RSS_anchor2', 2: 'RSS_anchor3', 3: 'RSS_anchor4'})",
      "execution_count": 23,
      "outputs": []
    },
    {
      "metadata": {
        "trusted": true
      },
      "cell_type": "code",
      "source": "rss_data_frame.head()",
      "execution_count": 24,
      "outputs": [
        {
          "output_type": "execute_result",
          "execution_count": 24,
          "data": {
            "text/html": "<div>\n<style scoped>\n    .dataframe tbody tr th:only-of-type {\n        vertical-align: middle;\n    }\n\n    .dataframe tbody tr th {\n        vertical-align: top;\n    }\n\n    .dataframe thead th {\n        text-align: right;\n    }\n</style>\n<table border=\"1\" class=\"dataframe\">\n  <thead>\n    <tr style=\"text-align: right;\">\n      <th></th>\n      <th>target</th>\n      <th>RSS_anchor1</th>\n      <th>RSS_anchor2</th>\n      <th>RSS_anchor3</th>\n      <th>RSS_anchor4</th>\n    </tr>\n  </thead>\n  <tbody>\n    <tr>\n      <th>0</th>\n      <td>1</td>\n      <td>(-1.2267807166123779+0j)</td>\n      <td>(-0.574394593231218+0j)</td>\n      <td>(-0.10960860000729511+0j)</td>\n      <td>(1.3553274031314444+0j)</td>\n    </tr>\n    <tr>\n      <th>1</th>\n      <td>1</td>\n      <td>(2.9259774034536226+0j)</td>\n      <td>(2.404910259366234+0j)</td>\n      <td>(-2.1751787605141732+0j)</td>\n      <td>(-2.3149351660195143+0j)</td>\n    </tr>\n    <tr>\n      <th>2</th>\n      <td>1</td>\n      <td>(3.337187445713733+0j)</td>\n      <td>(1.686085042450151+0j)</td>\n      <td>(-2.7029061158562153+0j)</td>\n      <td>(-2.2372550680009926+0j)</td>\n    </tr>\n    <tr>\n      <th>3</th>\n      <td>1</td>\n      <td>(-3.513514124744332+0j)</td>\n      <td>(-2.1221756814564996+0j)</td>\n      <td>(2.867852254375728+0j)</td>\n      <td>(2.2226989599835827+0j)</td>\n    </tr>\n    <tr>\n      <th>4</th>\n      <td>1</td>\n      <td>(-4.081392660991256+0j)</td>\n      <td>(-2.5329789459185936+0j)</td>\n      <td>(3.2084736446164808+0j)</td>\n      <td>(2.6017834094344408+0j)</td>\n    </tr>\n  </tbody>\n</table>\n</div>",
            "text/plain": "  target               RSS_anchor1               RSS_anchor2  \\\n0      1  (-1.2267807166123779+0j)   (-0.574394593231218+0j)   \n1      1   (2.9259774034536226+0j)    (2.404910259366234+0j)   \n2      1    (3.337187445713733+0j)    (1.686085042450151+0j)   \n3      1   (-3.513514124744332+0j)  (-2.1221756814564996+0j)   \n4      1   (-4.081392660991256+0j)  (-2.5329789459185936+0j)   \n\n                 RSS_anchor3               RSS_anchor4  \n0  (-0.10960860000729511+0j)   (1.3553274031314444+0j)  \n1   (-2.1751787605141732+0j)  (-2.3149351660195143+0j)  \n2   (-2.7029061158562153+0j)  (-2.2372550680009926+0j)  \n3     (2.867852254375728+0j)   (2.2226989599835827+0j)  \n4    (3.2084736446164808+0j)   (2.6017834094344408+0j)  "
          },
          "metadata": {}
        }
      ]
    },
    {
      "metadata": {
        "trusted": true
      },
      "cell_type": "code",
      "source": "rss_data_frame = rss_data_frame.astype(float)",
      "execution_count": 19,
      "outputs": [
        {
          "output_type": "stream",
          "text": "/home/nbuser/anaconda3_501/lib/python3.6/site-packages/pandas/core/dtypes/cast.py:703: ComplexWarning: Casting complex values to real discards the imaginary part\n  return arr.astype(dtype)\n",
          "name": "stderr"
        }
      ]
    },
    {
      "metadata": {
        "trusted": true
      },
      "cell_type": "code",
      "source": "eigVec",
      "execution_count": 30,
      "outputs": [
        {
          "output_type": "execute_result",
          "execution_count": 30,
          "data": {
            "text/plain": "array([[-0.24878716+0.j],\n       [-0.17201892+0.j],\n       [-0.27120945+0.j],\n       [-0.19090073+0.j],\n       [-0.26175698+0.j],\n       [-0.23916103+0.j],\n       [-0.24006912+0.j],\n       [-0.26218033+0.j],\n       [-0.19573199+0.j],\n       [-0.30626061+0.j],\n       [-0.28302664+0.j],\n       [-0.30300177+0.j],\n       [-0.24267795+0.j],\n       [-0.22027532+0.j],\n       [-0.16719793+0.j],\n       [-0.16397693+0.j],\n       [-0.15259001+0.j],\n       [-0.12468508+0.j],\n       [-0.1060249 +0.j],\n       [-0.13722138+0.j],\n       [-0.07770096+0.j],\n       [-0.02441493+0.j],\n       [-0.06795331+0.j]])"
          },
          "metadata": {}
        }
      ]
    },
    {
      "metadata": {
        "trusted": true
      },
      "cell_type": "code",
      "source": "X = rss_data_frame.iloc[:,1:]\ny = rss_data_frame.iloc[:, 0]\ny=y.astype('int')",
      "execution_count": 20,
      "outputs": []
    },
    {
      "metadata": {
        "trusted": true
      },
      "cell_type": "code",
      "source": "from sklearn.cross_validation import train_test_split\nimport random\n\nrandom_value = random.randint(1,1000)\n\nX_train, X_test, y_train, y_test = train_test_split(X, y, test_size = 0.33, random_state=random_value)",
      "execution_count": 21,
      "outputs": [
        {
          "output_type": "stream",
          "text": "/home/nbuser/anaconda3_501/lib/python3.6/site-packages/sklearn/cross_validation.py:41: DeprecationWarning: This module was deprecated in version 0.18 in favor of the model_selection module into which all the refactored classes and functions are moved. Also note that the interface of the new CV iterators are different from that of this module. This module will be removed in 0.20.\n  \"This module will be removed in 0.20.\", DeprecationWarning)\n",
          "name": "stderr"
        }
      ]
    },
    {
      "metadata": {},
      "cell_type": "markdown",
      "source": "There is a dataset which has all users movement and class labels belongs to these users. So, we splitted dataset and used SVM classfication method which has parameters as C is equal to 1 and gamma is equal to 0.5. "
    },
    {
      "metadata": {
        "trusted": true
      },
      "cell_type": "code",
      "source": "from sklearn import svm\n#from sklearn.model_selection import GridSearchCV\n\nclassifier = svm.SVC(kernel='rbf', C=1, gamma=0.5)\n#parameters = {'kernel': ('linear', 'rbf','poly'), 'C':[1.5, 10],'gamma': [1e-7, 1e-4],'epsilon':[0.1,0.2,0.5,0.3]}\n\n#regressor = GridSearchCV(regressor, parameters)\nclassifier.fit(X_train, y_train)\n",
      "execution_count": 24,
      "outputs": [
        {
          "output_type": "execute_result",
          "execution_count": 24,
          "data": {
            "text/plain": "SVC(C=1, cache_size=200, class_weight=None, coef0=0.0,\n  decision_function_shape='ovr', degree=3, gamma=0.5, kernel='rbf',\n  max_iter=-1, probability=False, random_state=None, shrinking=True,\n  tol=0.001, verbose=False)"
          },
          "metadata": {}
        }
      ]
    },
    {
      "metadata": {
        "trusted": true
      },
      "cell_type": "code",
      "source": "y_pred = classifier.predict(X_test)",
      "execution_count": 55,
      "outputs": []
    },
    {
      "metadata": {},
      "cell_type": "markdown",
      "source": "Finally, accuracy is"
    },
    {
      "metadata": {
        "trusted": true
      },
      "cell_type": "code",
      "source": "classifier.score(X_test, y_test)",
      "execution_count": 25,
      "outputs": [
        {
          "output_type": "execute_result",
          "execution_count": 25,
          "data": {
            "text/plain": "0.8653846153846154"
          },
          "metadata": {}
        }
      ]
    },
    {
      "metadata": {
        "trusted": true
      },
      "cell_type": "markdown",
      "source": ""
    },
    {
      "metadata": {
        "trusted": true
      },
      "cell_type": "code",
      "source": "",
      "execution_count": null,
      "outputs": []
    }
  ],
  "metadata": {
    "kernelspec": {
      "name": "python36",
      "display_name": "Python 3.6",
      "language": "python"
    },
    "language_info": {
      "mimetype": "text/x-python",
      "nbconvert_exporter": "python",
      "name": "python",
      "pygments_lexer": "ipython3",
      "version": "3.6.6",
      "file_extension": ".py",
      "codemirror_mode": {
        "version": 3,
        "name": "ipython"
      }
    }
  },
  "nbformat": 4,
  "nbformat_minor": 2
}